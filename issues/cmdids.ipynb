{
 "cells": [
  {
   "cell_type": "code",
   "execution_count": 1,
   "metadata": {
    "collapsed": false
   },
   "outputs": [
    {
     "data": {
      "text/html": [
       "<div class=\"spring-kernel\"><div class=\"bg-info\">SpringRTS Lua notebook<br/>To begin, write %lsmagic to see what special identifiers are available. Each code block should begin with a state identifier magic, such as: %luaui, %uluarules, and similar. This defines the Spring Lua state in which the code will be executed.<br/><br/>Additional things to note:<br/>- In case there is no state magic in the code block, the last set state will be used.<br/>- There can only be one state-magic per code block, and it must be at the beginning of the code block.<br/>- Non-state magics such as %lsmagic, %help and similar shouldn't appear along with Lua code.<br/>- Don't use local variables if you want to access them in consequitive runs. They will be out of scope.<br/>- Variable scope is shared between different notebooks.<br/></div></div>"
      ],
      "text/plain": [
       "SpringRTS Lua notebook<br/>To begin, write %lsmagic to see what special identifiers are available. Each code block should begin with a state identifier magic, such as: %luaui, %uluarules, and similar. This defines the Spring Lua state in which the code will be executed.<br/><br/>Additional things to note:<br/>- In case there is no state magic in the code block, the last set state will be used.<br/>- There can only be one state-magic per code block, and it must be at the beginning of the code block.<br/>- Non-state magics such as %lsmagic, %help and similar shouldn't appear along with Lua code.<br/>- Don't use local variables if you want to access them in consequitive runs. They will be out of scope.<br/>- Variable scope is shared between different notebooks.<br/>\n"
      ]
     },
     "metadata": {},
     "output_type": "display_data"
    }
   ],
   "source": [
    "%help"
   ]
  },
  {
   "cell_type": "code",
   "execution_count": 4,
   "metadata": {
    "collapsed": false
   },
   "outputs": [
    {
     "data": {
      "text/html": [
       "<div class=\"spring-kernel\"><div class=\"text-muted\">LuaUI</div><pre class=\"output\">5<br/></pre></div>"
      ],
      "text/plain": [
       "LuaUI\n",
       "5<br/>\n"
      ]
     },
     "metadata": {},
     "output_type": "display_data"
    }
   ],
   "source": [
    "_p(5)"
   ]
  },
  {
   "cell_type": "code",
   "execution_count": 5,
   "metadata": {
    "collapsed": false
   },
   "outputs": [
    {
     "data": {
      "text/html": [
       "<div class=\"spring-kernel\"><div class=\"text-muted\">LuaUI</div><pre class=\"output\">{1=INSERT, 2=REMOVE, 5=WAIT, 6=TIMEWAIT, 7=DEATHWAIT, 8=SQUADWAIT, 9=GATHERWAIT, 10=MOVE, 15=PATROL, 16=FIGHT, 0=STOP, CAPTURE=130, 125=RESURRECT, 55=SETBASE, GROUPADD=36, OPT_SHIFT=32, PATROL=15, 20=LOOPBACKATTACK, STOP=0, OPT_META=4, 40=REPAIR, RESURRECT=125, GUARD=25, INSERT=1, 80=UNLOAD_UNITS, FIGHT=16, 81=UNLOAD_UNIT, LOAD_UNITS=75, RESTORE=110, OPT_ALT=128, INTERNAL=60, OPT_INTERNAL=8, MOVESTATE_HOLDPOS=0, OPT_CTRL=64, 25=GUARD, 115=REPEAT, 50=MOVE_STATE, 135=AUTOREPAIRLEVEL, 100=STOCKPILE, WAITCODE_DEATH=2, MOVE_STATE=50, 145=IDLEMODE, 75=LOAD_UNITS, 35=GROUPSELECT, WAIT=5, OPT_RIGHT=16, LOOPBACKATTACK=20, 70=SET_WANTED_MAX_SPEED, AUTOREPAIRLEVEL=135, 130=CAPTURE, SQUADWAIT=8, TRAJECTORY=120, MOVESTATE_ROAM=2, REPEAT=115, 110=RESTORE, FIRE_STATE=45, LOAD_ONTO=76, UNLOAD_UNIT=81, 30=AISELECT, TIMEWAIT=6, REMOVE=2, MOVE=10, GROUPCLEAR=37, MANUALFIRE=105, STOCKPILE=100, 95=CLOAK, 120=TRAJECTORY, GROUPSELECT=35, FIRESTATE_FIREATNEUTRAL=3, RECLAIM=90, 85=ONOFF, MOVESTATE_MANEUVER=1, ONOFF=85, 105=DGUN, FIRESTATE_NONE=-1, 37=GROUPCLEAR, 45=FIRE_STATE, FIRESTATE_RETURNFIRE=1, FIRESTATE_HOLDFIRE=0, 65=SELFD, 90=RECLAIM, 36=GROUPADD, GATHERWAIT=9, IDLEMODE=145, DGUN=105, CLOAK=95, SELFD=65, MOVESTATE_NONE=-1, AISELECT=30, SET_WANTED_MAX_SPEED=70, FIRESTATE_FIREATWILL=2, SETBASE=55, WAITCODE_GATHER=4, UNLOAD_UNITS=80, DEATHWAIT=7, 76=LOAD_ONTO, 60=INTERNAL, REPAIR=40, AREA_ATTACK=21, WAITCODE_TIME=1, 21=AREA_ATTACK, WAITCODE_SQUAD=3, ATTACK=20}<br/></pre></div>"
      ],
      "text/plain": [
       "LuaUI\n",
       "{1=INSERT, 2=REMOVE, 5=WAIT, 6=TIMEWAIT, 7=DEATHWAIT, 8=SQUADWAIT, 9=GATHERWAIT, 10=MOVE, 15=PATROL, 16=FIGHT, 0=STOP, CAPTURE=130, 125=RESURRECT, 55=SETBASE, GROUPADD=36, OPT_SHIFT=32, PATROL=15, 20=LOOPBACKATTACK, STOP=0, OPT_META=4, 40=REPAIR, RESURRECT=125, GUARD=25, INSERT=1, 80=UNLOAD_UNITS, FIGHT=16, 81=UNLOAD_UNIT, LOAD_UNITS=75, RESTORE=110, OPT_ALT=128, INTERNAL=60, OPT_INTERNAL=8, MOVESTATE_HOLDPOS=0, OPT_CTRL=64, 25=GUARD, 115=REPEAT, 50=MOVE_STATE, 135=AUTOREPAIRLEVEL, 100=STOCKPILE, WAITCODE_DEATH=2, MOVE_STATE=50, 145=IDLEMODE, 75=LOAD_UNITS, 35=GROUPSELECT, WAIT=5, OPT_RIGHT=16, LOOPBACKATTACK=20, 70=SET_WANTED_MAX_SPEED, AUTOREPAIRLEVEL=135, 130=CAPTURE, SQUADWAIT=8, TRAJECTORY=120, MOVESTATE_ROAM=2, REPEAT=115, 110=RESTORE, FIRE_STATE=45, LOAD_ONTO=76, UNLOAD_UNIT=81, 30=AISELECT, TIMEWAIT=6, REMOVE=2, MOVE=10, GROUPCLEAR=37, MANUALFIRE=105, STOCKPILE=100, 95=CLOAK, 120=TRAJECTORY, GROUPSELECT=35, FIRESTATE_FIREATNEUTRAL=3, RECLAIM=90, 85=ONOFF, MOVESTATE_MANEUVER=1, ONOFF=85, 105=DGUN, FIRESTATE_NONE=-1, 37=GROUPCLEAR, 45=FIRE_STATE, FIRESTATE_RETURNFIRE=1, FIRESTATE_HOLDFIRE=0, 65=SELFD, 90=RECLAIM, 36=GROUPADD, GATHERWAIT=9, IDLEMODE=145, DGUN=105, CLOAK=95, SELFD=65, MOVESTATE_NONE=-1, AISELECT=30, SET_WANTED_MAX_SPEED=70, FIRESTATE_FIREATWILL=2, SETBASE=55, WAITCODE_GATHER=4, UNLOAD_UNITS=80, DEATHWAIT=7, 76=LOAD_ONTO, 60=INTERNAL, REPAIR=40, AREA_ATTACK=21, WAITCODE_TIME=1, 21=AREA_ATTACK, WAITCODE_SQUAD=3, ATTACK=20}<br/>\n"
      ]
     },
     "metadata": {},
     "output_type": "display_data"
    }
   ],
   "source": [
    "_p(CMD)"
   ]
  },
  {
   "cell_type": "code",
   "execution_count": 6,
   "metadata": {
    "collapsed": false
   },
   "outputs": [
    {
     "data": {
      "text/html": [
       "<div class=\"spring-kernel\"><div class=\"text-muted\">LuaUI</div><pre class=\"output\">{19001, 6512}<br/></pre></div>"
      ],
      "text/plain": [
       "LuaUI\n",
       "{19001, 6512}<br/>\n"
      ]
     },
     "metadata": {},
     "output_type": "display_data"
    }
   ],
   "source": [
    "_p(Spring.GetAllUnits())"
   ]
  },
  {
   "cell_type": "code",
   "execution_count": 10,
   "metadata": {
    "collapsed": false
   },
   "outputs": [
    {
     "data": {
      "text/html": [
       "<div class=\"spring-kernel\"><div class=\"text-muted\">LuaUI</div><pre class=\"output\">{id=39812, tag=29, options={alt=false, ctrl=false, internal=false, coded=0, right=false, meta=false, shift=false}, params={922.875244, 274.996033, 5488.85303}}<br/></pre></div>"
      ],
      "text/plain": [
       "LuaUI\n",
       "{id=39812, tag=29, options={alt=false, ctrl=false, internal=false, coded=0, right=false, meta=false, shift=false}, params={922.875244, 274.996033, 5488.85303}}<br/>\n"
      ]
     },
     "metadata": {},
     "output_type": "display_data"
    }
   ],
   "source": [
    "_p(Spring.GetUnitCommands(6512, -1)[1])"
   ]
  },
  {
   "cell_type": "code",
   "execution_count": 11,
   "metadata": {
    "collapsed": false
   },
   "outputs": [
    {
     "data": {
      "text/html": [
       "<div class=\"spring-kernel\"><div class=\"text-muted\">LuaUI</div><pre class=\"output\">nil<br/></pre></div>"
      ],
      "text/plain": [
       "LuaUI\n",
       "nil<br/>\n"
      ]
     },
     "metadata": {},
     "output_type": "display_data"
    }
   ],
   "source": [
    "_p(CMD[29])"
   ]
  },
  {
   "cell_type": "code",
   "execution_count": 13,
   "metadata": {
    "collapsed": false
   },
   "outputs": [
    {
     "data": {
      "text/html": [
       "<div class=\"spring-kernel\"><div class=\"text-muted\">LuaUI</div><pre class=\"output\">1, INSERT<br/>2, REMOVE<br/>3, nil<br/>4, nil<br/>5, WAIT<br/>6, TIMEWAIT<br/>7, DEATHWAIT<br/>8, SQUADWAIT<br/>9, GATHERWAIT<br/>10, MOVE<br/>11, nil<br/>12, nil<br/>13, nil<br/>14, nil<br/>15, PATROL<br/>16, FIGHT<br/>17, nil<br/>18, nil<br/>19, nil<br/>20, LOOPBACKATTACK<br/>21, AREA_ATTACK<br/>22, nil<br/>23, nil<br/>24, nil<br/>25, GUARD<br/>26, nil<br/>27, nil<br/>28, nil<br/>29, nil<br/>30, AISELECT<br/></pre></div>"
      ],
      "text/plain": [
       "LuaUI\n",
       "1, INSERT<br/>2, REMOVE<br/>3, nil<br/>4, nil<br/>5, WAIT<br/>6, TIMEWAIT<br/>7, DEATHWAIT<br/>8, SQUADWAIT<br/>9, GATHERWAIT<br/>10, MOVE<br/>11, nil<br/>12, nil<br/>13, nil<br/>14, nil<br/>15, PATROL<br/>16, FIGHT<br/>17, nil<br/>18, nil<br/>19, nil<br/>20, LOOPBACKATTACK<br/>21, AREA_ATTACK<br/>22, nil<br/>23, nil<br/>24, nil<br/>25, GUARD<br/>26, nil<br/>27, nil<br/>28, nil<br/>29, nil<br/>30, AISELECT<br/>\n"
      ]
     },
     "metadata": {},
     "output_type": "display_data"
    }
   ],
   "source": [
    "for i = 1, 30 do _p(i, CMD[i]) end"
   ]
  }
 ],
 "metadata": {
  "kernelspec": {
   "display_name": "SpringRTS",
   "language": "",
   "name": "spring_kernel"
  },
  "language_info": {
   "file_extension": ".lua",
   "mimetype": "text/plain",
   "name": "Lua"
  }
 },
 "nbformat": 4,
 "nbformat_minor": 2
}
